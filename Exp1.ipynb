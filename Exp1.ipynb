{
  "nbformat": 4,
  "nbformat_minor": 0,
  "metadata": {
    "colab": {
      "provenance": [],
      "authorship_tag": "ABX9TyNOsRoOIN091tFfs5qH8JSq",
      "include_colab_link": true
    },
    "kernelspec": {
      "name": "python3",
      "display_name": "Python 3"
    },
    "language_info": {
      "name": "python"
    }
  },
  "cells": [
    {
      "cell_type": "markdown",
      "metadata": {
        "id": "view-in-github",
        "colab_type": "text"
      },
      "source": [
        "<a href=\"https://colab.research.google.com/github/Mayuresh018/Exp1/blob/main/Exp1.ipynb\" target=\"_parent\"><img src=\"https://colab.research.google.com/assets/colab-badge.svg\" alt=\"Open In Colab\"/></a>"
      ]
    },
    {
      "cell_type": "code",
      "source": [
        "import random\n",
        "\n",
        "def guess_the_number():\n",
        "    # Generate a random number between 1 and 100\n",
        "    secret_number = random.randint(1, 100)\n",
        "\n",
        "    # Initialize variables\n",
        "    attempts = 0\n",
        "    max_attempts = 3\n",
        "\n",
        "\n",
        "    print(\"Welcome to Guess the Number game!\")\n",
        "    print(\"I'm thinking of a number between 1 and 100.\")\n",
        "\n",
        "    while attempts < max_attempts:\n",
        "        try:\n",
        "            # Get the player's guess\n",
        "            guess = int(input(\"Enter your guess: \"))\n",
        "\n",
        "            # Increment the number of attempts\n",
        "            attempts += 1\n",
        "\n",
        "            # Check if the guess is correct\n",
        "            if guess == secret_number:\n",
        "                print(f\"Congratulations! You guessed the number {secret_number} in {attempts} attempts.\")\n",
        "                break\n",
        "            elif guess < secret_number:\n",
        "                print(\"Try a higher number.\")\n",
        "            else:\n",
        "                print(\"Try a lower number.\")\n",
        "\n",
        "        except ValueError:\n",
        "            print(\"Invalid input. Please enter a valid number.\")\n",
        "\n",
        "    else:\n",
        "        print(f\"Sorry, you've reached the maximum number of attempts. The secret number was {secret_number}.\")\n",
        "\n",
        "# Start the game\n",
        "guess_the_number()\n"
      ],
      "metadata": {
        "colab": {
          "base_uri": "https://localhost:8080/"
        },
        "id": "A059MzLcqPQS",
        "outputId": "ffe0dad6-0b6b-4ae2-d587-dd1a331e6338"
      },
      "execution_count": 3,
      "outputs": [
        {
          "output_type": "stream",
          "name": "stdout",
          "text": [
            "Welcome to Guess the Number game!\n",
            "I'm thinking of a number between 1 and 100.\n",
            "Enter your guess: 45\n",
            "Try a lower number.\n",
            "Enter your guess: 34\n",
            "Try a lower number.\n",
            "Enter your guess: 23\n",
            "Try a higher number.\n",
            "Sorry, you've reached the maximum number of attempts. The secret number was 27.\n"
          ]
        }
      ]
    }
  ]
}